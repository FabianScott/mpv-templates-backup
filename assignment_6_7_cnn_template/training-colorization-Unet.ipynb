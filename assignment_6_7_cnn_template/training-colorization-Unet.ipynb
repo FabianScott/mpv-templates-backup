{
 "cells": [
  {
   "cell_type": "markdown",
   "metadata": {},
   "source": [
    "# Image colorization network\n",
    "\n",
    "In this lab we will train an image colorization network that given a grayscale image hallucinates its RGB version.\n",
    "Image generation/translation is more memory and computation consuming task than image classification and is also harder to train. On the other hand, it is easy to have an infinite supply of the labelled data. That is why, while is it still possible to run the training for the current assignment on CPU, we recommend to use GPU (if available) or Google Colab.\n",
    "In the latter case, you will find comments with additional commands to run.\n",
    "\n",
    "Below is an example of the [Deoldify](https://deoldify.ai) colorization model output on Dmytro Mishkin child B&W photo:\n",
    "\n",
    "![image.png](training-colorization-GAN_files/deoldify_example.jpeg)\n",
    "\n",
    "\n",
    "\n",
    "## Overview\n",
    "We will train a Unet-style CNN with the content (aka [perceptual](https://cs.stanford.edu/people/jcjohns/papers/eccv16/JohnsonECCV16.pdf)) loss on the ImageNette dataset, which we have already used in the previous assignment. Now we will go over the functions, classes, models you need to implement and train."
   ]
  },
  {
   "cell_type": "code",
   "execution_count": null,
   "metadata": {},
   "outputs": [],
   "source": [
    "# FOR COLAB: uncomment and run the following code every time you are starting the session\n",
    "#!pip install kornia==0.6.3"
   ]
  },
  {
   "cell_type": "code",
   "execution_count": null,
   "metadata": {},
   "outputs": [],
   "source": [
    "# FOR COLAB: uncomment and run the following code every time you are starting the session\n",
    "# for local: uncomment and run once\n",
    "#!wget https://s3.amazonaws.com/fast-ai-imageclas/imagenette2-160.tgz\n",
    "#!tar -xzf imagenette2-160.tgz"
   ]
  },
  {
   "cell_type": "code",
   "execution_count": 1,
   "metadata": {},
   "outputs": [
    {
     "name": "stdout",
     "output_type": "stream",
     "text": [
      "cpu\n"
     ]
    }
   ],
   "source": [
    "%load_ext autoreload\n",
    "%autoreload 2\n",
    "%matplotlib inline\n",
    "import os\n",
    "import matplotlib.pyplot as plt\n",
    "import numpy as np\n",
    "import cv2\n",
    "import seaborn as sns\n",
    "import torch\n",
    "import torch.nn as nn\n",
    "import torch.nn.functional as F\n",
    "import torchvision as tv\n",
    "import kornia as K\n",
    "import torchvision.transforms as tfms\n",
    "from tqdm import tqdm_notebook as twdm\n",
    "from time import time\n",
    "\n",
    "def imshow_torch(tensor,figsize=(8,6), *kwargs):\n",
    "    plt.figure(figsize=figsize)\n",
    "    plt.imshow(K.tensor_to_image(tensor), *kwargs)\n",
    "    return\n",
    "\n",
    "def imshow_torch_channels(tensor, dim = 1, *kwargs):\n",
    "    num_ch = tensor.size(dim)\n",
    "    fig=plt.figure(figsize=(num_ch*5,5))\n",
    "    tensor_splitted = torch.split(tensor, 1, dim=dim)\n",
    "    for i in range(num_ch):\n",
    "        fig.add_subplot(1, num_ch, i+1)\n",
    "        plt.imshow(K.tensor_to_image(tensor_splitted[i].squeeze(dim)), *kwargs)\n",
    "    return\n",
    "\n",
    "mean, std = [0.46248055, 0.4579692, 0.42981696], [0.14145005, 0.1439656, 0.1707164]\n",
    "\n",
    "train_transform = tfms.Compose([tfms.Resize((128,128)),\n",
    "                                tfms.RandomHorizontalFlip(),\n",
    "                                tfms.ToTensor(),\n",
    "                                tfms.Normalize(mean, std)])\n",
    "\n",
    "val_transform = tfms.Compose([tfms.Resize((128,128)),\n",
    "                                tfms.ToTensor(),\n",
    "                              tfms.Normalize(mean, std)])\n",
    "try:\n",
    "    if torch.cuda.is_available():\n",
    "        device=torch.device('cuda')\n",
    "    else:\n",
    "        device=torch.device('cpu')\n",
    "except:\n",
    "    device=torch.device('cpu')\n",
    "print (device)"
   ]
  },
  {
   "cell_type": "markdown",
   "metadata": {},
   "source": [
    "# Data loader\n",
    "\n",
    "We don't need labels, but we need two version of the image to train: decolorized as an input and original as target.\n",
    "\n",
    "It can be simply implemended as following. The grayscale version has identical values in the R, G, B channels.\n"
   ]
  },
  {
   "cell_type": "code",
   "execution_count": 2,
   "metadata": {},
   "outputs": [],
   "source": [
    "class DecolorImagesDataset(tv.datasets.ImageFolder):\n",
    "    def __getitem__(self, idx):\n",
    "        item = super(self).__getitem__(idx)\n",
    "        out = K.color.rgb_to_grayscale(item[0]).expand(3, -1, -1), item[0]\n",
    "        return out"
   ]
  },
  {
   "cell_type": "code",
   "execution_count": 3,
   "metadata": {},
   "outputs": [
    {
     "name": "stdout",
     "output_type": "stream",
     "text": [
      "Num workers = 8\n"
     ]
    }
   ],
   "source": [
    "# Taken from here https://stackoverflow.com/a/58748125/1983544\n",
    "num_workers = os.cpu_count()\n",
    "if 'sched_getaffinity' in dir(os):\n",
    "    num_workers = len(os.sched_getaffinity(0))\n",
    "print (f\"Num workers = {num_workers}\")\n",
    "\n",
    "ImageNette_train = DecolorImagesDataset('imagenette2-160/train',\n",
    "                                          transform = train_transform)    \n",
    "ImageNette_val = DecolorImagesDataset('imagenette2-160/val', \n",
    "                                    transform = val_transform)\n",
    "\n",
    "BS = 6 \n",
    "train_dl = torch.utils.data.DataLoader(ImageNette_train,\n",
    "                                       batch_size= BS,\n",
    "                                       shuffle = True, # important thing to do for training. \n",
    "                                       num_workers = num_workers)\n",
    "val_dl = torch.utils.data.DataLoader(ImageNette_val,\n",
    "                                     batch_size= 2,\n",
    "                                     shuffle = False,\n",
    "                                     num_workers = num_workers,\n",
    "                                     drop_last=False) "
   ]
  },
  {
   "cell_type": "markdown",
   "metadata": {},
   "source": [
    "## Unet \n",
    "[Unet](https://arxiv.org/abs/1505.04597) is one of the most popular and well-performing architectures for image-to-image translation (segmentation, colorization, restoration, etc.) tasks. It consists of an image encoder, similar to the image classification task, and a decoder, which gradually increases spatial resolution back to the original one. In addition, all blocks from the decoder are skip-connected to their same-resolution counterparts from the encoder. \n",
    "\n",
    "![image.png](training-colorization-GAN_files/att_00000.png)\n",
    "\n",
    "There are many ways to implement Unet and Unet can be based on any backbone architecture: [AlexNet](https://papers.nips.cc/paper/4824-imagenet-classification-with-deep-convolutional-neural-networks.pdf), [VGGNet](https://arxiv.org/pdf/1409.1556), [ResNet](https://arxiv.org/abs/1512.03385), etc.\n",
    "\n",
    "We will be using a trick from fast.ai and Deoldify by Jason Antic, (Deoldify), Jeremy Howard (fast.ai), and Uri Manor (Salk Institute): [using ImageNet-pretrained network for implementing Unet encoder part](https://www.fast.ai/2019/05/03/decrappify/). This saves a lot of training time compared to training from scratch. \n",
    "\n",
    "Your task is to implement class `UnetFromPretrained`.\n",
    "\n",
    "Here we write some code snippets, which might help with implementation."
   ]
  },
  {
   "cell_type": "markdown",
   "metadata": {},
   "source": [
    "### How to get pretrained model from [torchvision](https://pytorch.org/docs/stable/torchvision/models.html)\n",
    "\n",
    "To get pretrained model, pass `True` to the constructor"
   ]
  },
  {
   "cell_type": "code",
   "execution_count": 4,
   "metadata": {},
   "outputs": [
    {
     "name": "stdout",
     "output_type": "stream",
     "text": [
      "VGG(\n",
      "  (features): Sequential(\n",
      "    (0): Conv2d(3, 64, kernel_size=(3, 3), stride=(1, 1), padding=(1, 1))\n",
      "    (1): BatchNorm2d(64, eps=1e-05, momentum=0.1, affine=True, track_running_stats=True)\n",
      "    (2): ReLU(inplace=True)\n",
      "    (3): Conv2d(64, 64, kernel_size=(3, 3), stride=(1, 1), padding=(1, 1))\n",
      "    (4): BatchNorm2d(64, eps=1e-05, momentum=0.1, affine=True, track_running_stats=True)\n",
      "    (5): ReLU(inplace=True)\n",
      "    (6): MaxPool2d(kernel_size=2, stride=2, padding=0, dilation=1, ceil_mode=False)\n",
      "    (7): Conv2d(64, 128, kernel_size=(3, 3), stride=(1, 1), padding=(1, 1))\n",
      "    (8): BatchNorm2d(128, eps=1e-05, momentum=0.1, affine=True, track_running_stats=True)\n",
      "    (9): ReLU(inplace=True)\n",
      "    (10): Conv2d(128, 128, kernel_size=(3, 3), stride=(1, 1), padding=(1, 1))\n",
      "    (11): BatchNorm2d(128, eps=1e-05, momentum=0.1, affine=True, track_running_stats=True)\n",
      "    (12): ReLU(inplace=True)\n",
      "    (13): MaxPool2d(kernel_size=2, stride=2, padding=0, dilation=1, ceil_mode=False)\n",
      "    (14): Conv2d(128, 256, kernel_size=(3, 3), stride=(1, 1), padding=(1, 1))\n",
      "    (15): BatchNorm2d(256, eps=1e-05, momentum=0.1, affine=True, track_running_stats=True)\n",
      "    (16): ReLU(inplace=True)\n",
      "    (17): Conv2d(256, 256, kernel_size=(3, 3), stride=(1, 1), padding=(1, 1))\n",
      "    (18): BatchNorm2d(256, eps=1e-05, momentum=0.1, affine=True, track_running_stats=True)\n",
      "    (19): ReLU(inplace=True)\n",
      "    (20): MaxPool2d(kernel_size=2, stride=2, padding=0, dilation=1, ceil_mode=False)\n",
      "    (21): Conv2d(256, 512, kernel_size=(3, 3), stride=(1, 1), padding=(1, 1))\n",
      "    (22): BatchNorm2d(512, eps=1e-05, momentum=0.1, affine=True, track_running_stats=True)\n",
      "    (23): ReLU(inplace=True)\n",
      "    (24): Conv2d(512, 512, kernel_size=(3, 3), stride=(1, 1), padding=(1, 1))\n",
      "    (25): BatchNorm2d(512, eps=1e-05, momentum=0.1, affine=True, track_running_stats=True)\n",
      "    (26): ReLU(inplace=True)\n",
      "    (27): MaxPool2d(kernel_size=2, stride=2, padding=0, dilation=1, ceil_mode=False)\n",
      "    (28): Conv2d(512, 512, kernel_size=(3, 3), stride=(1, 1), padding=(1, 1))\n",
      "    (29): BatchNorm2d(512, eps=1e-05, momentum=0.1, affine=True, track_running_stats=True)\n",
      "    (30): ReLU(inplace=True)\n",
      "    (31): Conv2d(512, 512, kernel_size=(3, 3), stride=(1, 1), padding=(1, 1))\n",
      "    (32): BatchNorm2d(512, eps=1e-05, momentum=0.1, affine=True, track_running_stats=True)\n",
      "    (33): ReLU(inplace=True)\n",
      "    (34): MaxPool2d(kernel_size=2, stride=2, padding=0, dilation=1, ceil_mode=False)\n",
      "  )\n",
      "  (avgpool): AdaptiveAvgPool2d(output_size=(7, 7))\n",
      "  (classifier): Sequential(\n",
      "    (0): Linear(in_features=25088, out_features=4096, bias=True)\n",
      "    (1): ReLU(inplace=True)\n",
      "    (2): Dropout(p=0.5, inplace=False)\n",
      "    (3): Linear(in_features=4096, out_features=4096, bias=True)\n",
      "    (4): ReLU(inplace=True)\n",
      "    (5): Dropout(p=0.5, inplace=False)\n",
      "    (6): Linear(in_features=4096, out_features=1000, bias=True)\n",
      "  )\n",
      ")\n"
     ]
    }
   ],
   "source": [
    "vgg13_bn = tv.models.vgg13_bn(True)\n",
    "print (vgg13_bn)"
   ]
  },
  {
   "cell_type": "markdown",
   "metadata": {},
   "source": [
    "You can pick specific layers from sequential models. For example, to get indexes of layers, where downscaling is happens, try the following:"
   ]
  },
  {
   "cell_type": "code",
   "execution_count": 5,
   "metadata": {},
   "outputs": [
    {
     "name": "stdout",
     "output_type": "stream",
     "text": [
      "6 MaxPool2d(kernel_size=2, stride=2, padding=0, dilation=1, ceil_mode=False)\n",
      "13 MaxPool2d(kernel_size=2, stride=2, padding=0, dilation=1, ceil_mode=False)\n",
      "20 MaxPool2d(kernel_size=2, stride=2, padding=0, dilation=1, ceil_mode=False)\n",
      "27 MaxPool2d(kernel_size=2, stride=2, padding=0, dilation=1, ceil_mode=False)\n",
      "34 MaxPool2d(kernel_size=2, stride=2, padding=0, dilation=1, ceil_mode=False)\n"
     ]
    }
   ],
   "source": [
    "downscale_idxs = []\n",
    "for i, l in enumerate(vgg13_bn.features):\n",
    "    try:\n",
    "        stride = l.stride\n",
    "    except:\n",
    "        stride = 1\n",
    "    if type(stride) is tuple:\n",
    "        stride = stride[0]\n",
    "    if stride > 1:\n",
    "        print (i, l)\n",
    "        downscale_idxs.append(i)"
   ]
  },
  {
   "cell_type": "markdown",
   "metadata": {},
   "source": [
    " To create a block from the part of the model, you can use the following:\n",
    " "
   ]
  },
  {
   "cell_type": "code",
   "execution_count": 6,
   "metadata": {},
   "outputs": [
    {
     "name": "stdout",
     "output_type": "stream",
     "text": [
      "Sequential(\n",
      "  (0): Conv2d(64, 64, kernel_size=(3, 3), stride=(1, 1), padding=(1, 1))\n",
      "  (1): BatchNorm2d(64, eps=1e-05, momentum=0.1, affine=True, track_running_stats=True)\n",
      "  (2): ReLU(inplace=True)\n",
      "  (3): MaxPool2d(kernel_size=2, stride=2, padding=0, dilation=1, ceil_mode=False)\n",
      "  (4): Conv2d(64, 128, kernel_size=(3, 3), stride=(1, 1), padding=(1, 1))\n",
      ")\n"
     ]
    }
   ],
   "source": [
    "st_idx = 3\n",
    "fin_idx = 8\n",
    "module = nn.Sequential(*vgg13_bn.features[st_idx:fin_idx])\n",
    "print (module)"
   ]
  },
  {
   "cell_type": "markdown",
   "metadata": {},
   "source": [
    "We recommend to use [kornia.geometry.transform.resize]() or [kornia.geometry.transform.rescale]() with enabled flag `antialias=True` for downscaling for upscaling. The difference between `resize` and `rescale`in just input format: resize expects explicit output size, whereas rescale -- up or downsampling factor.\n",
    "\n",
    "Other ways of resampling, e.g. MaxPooling, lead to information loss for the backprop and strided convolution lead to artifacts. For detailed reference why anti-alizased downscaling is better and more advanced variants see [The Devil is in the Decoder: Classification, Regression and GANs](https://arxiv.org/abs/1707.05847).\n",
    "\n",
    "\n",
    "I also recommend to check this interactive paper/post about checkerboard artifacts in image generation:\n",
    "[Deconvolution and Checkerboard Artifacts](https://distill.pub/2016/deconv-checkerboard/)\n",
    "\n",
    "\n",
    "If you use normalization in the decoder, it is safer to use [GroupNorm](https://pytorch.org/docs/stable/nn.html#torch.nn.GroupNorm), `nn.GroupNorm` instead of `BatchNorm` because of small batch size.\n",
    "\n",
    "**Don't hardcode the structure from the reference example: you would need to implement the code to generate it AND use ImageNet-pretrained weights**"
   ]
  },
  {
   "cell_type": "code",
   "execution_count": 7,
   "metadata": {},
   "outputs": [
    {
     "name": "stdout",
     "output_type": "stream",
     "text": [
      "UnetFromPretrained(\n",
      "  (down_blocks): ModuleList(\n",
      "    (0): Sequential(\n",
      "      (0): Conv2d(3, 64, kernel_size=(3, 3), stride=(1, 1), padding=(1, 1))\n",
      "      (1): BatchNorm2d(64, eps=1e-05, momentum=0.1, affine=True, track_running_stats=True)\n",
      "      (2): ReLU(inplace=True)\n",
      "      (3): Conv2d(64, 64, kernel_size=(3, 3), stride=(1, 1), padding=(1, 1))\n",
      "      (4): BatchNorm2d(64, eps=1e-05, momentum=0.1, affine=True, track_running_stats=True)\n",
      "      (5): ReLU(inplace=True)\n",
      "      (6): Rescale()\n",
      "    )\n",
      "    (1): Sequential(\n",
      "      (0): Conv2d(64, 128, kernel_size=(3, 3), stride=(1, 1), padding=(1, 1))\n",
      "      (1): BatchNorm2d(128, eps=1e-05, momentum=0.1, affine=True, track_running_stats=True)\n",
      "      (2): ReLU(inplace=True)\n",
      "      (3): Conv2d(128, 128, kernel_size=(3, 3), stride=(1, 1), padding=(1, 1))\n",
      "      (4): BatchNorm2d(128, eps=1e-05, momentum=0.1, affine=True, track_running_stats=True)\n",
      "      (5): ReLU(inplace=True)\n",
      "      (6): Rescale()\n",
      "    )\n",
      "    (2): Sequential(\n",
      "      (0): Conv2d(128, 256, kernel_size=(3, 3), stride=(1, 1), padding=(1, 1))\n",
      "      (1): BatchNorm2d(256, eps=1e-05, momentum=0.1, affine=True, track_running_stats=True)\n",
      "      (2): ReLU(inplace=True)\n",
      "      (3): Conv2d(256, 256, kernel_size=(3, 3), stride=(1, 1), padding=(1, 1))\n",
      "      (4): BatchNorm2d(256, eps=1e-05, momentum=0.1, affine=True, track_running_stats=True)\n",
      "      (5): ReLU(inplace=True)\n",
      "      (6): Rescale()\n",
      "    )\n",
      "    (3): Sequential(\n",
      "      (0): Conv2d(256, 512, kernel_size=(3, 3), stride=(1, 1), padding=(1, 1))\n",
      "      (1): BatchNorm2d(512, eps=1e-05, momentum=0.1, affine=True, track_running_stats=True)\n",
      "      (2): ReLU(inplace=True)\n",
      "      (3): Conv2d(512, 512, kernel_size=(3, 3), stride=(1, 1), padding=(1, 1))\n",
      "      (4): BatchNorm2d(512, eps=1e-05, momentum=0.1, affine=True, track_running_stats=True)\n",
      "      (5): ReLU(inplace=True)\n",
      "      (6): Rescale()\n",
      "    )\n",
      "    (4): Sequential(\n",
      "      (0): Conv2d(512, 512, kernel_size=(3, 3), stride=(1, 1), padding=(1, 1))\n",
      "      (1): BatchNorm2d(512, eps=1e-05, momentum=0.1, affine=True, track_running_stats=True)\n",
      "      (2): ReLU(inplace=True)\n",
      "      (3): Conv2d(512, 512, kernel_size=(3, 3), stride=(1, 1), padding=(1, 1))\n",
      "      (4): BatchNorm2d(512, eps=1e-05, momentum=0.1, affine=True, track_running_stats=True)\n",
      "      (5): ReLU(inplace=True)\n",
      "      (6): Rescale()\n",
      "    )\n",
      "  )\n",
      "  (up_blocks): ModuleList(\n",
      "    (0): UpscaleConv(\n",
      "      (up): Upscale_like()\n",
      "      (features): Sequential(\n",
      "        (0): GroupNorm(8, 1024, eps=1e-05, affine=True)\n",
      "        (1): Conv2d(1024, 512, kernel_size=(3, 3), stride=(1, 1), padding=(1, 1))\n",
      "        (2): LeakyReLU(negative_slope=0.1)\n",
      "      )\n",
      "    )\n",
      "    (1): UpscaleConv(\n",
      "      (up): Upscale_like()\n",
      "      (features): Sequential(\n",
      "        (0): GroupNorm(8, 768, eps=1e-05, affine=True)\n",
      "        (1): Conv2d(768, 256, kernel_size=(3, 3), stride=(1, 1), padding=(1, 1))\n",
      "        (2): LeakyReLU(negative_slope=0.1)\n",
      "      )\n",
      "    )\n",
      "    (2): UpscaleConv(\n",
      "      (up): Upscale_like()\n",
      "      (features): Sequential(\n",
      "        (0): GroupNorm(8, 384, eps=1e-05, affine=True)\n",
      "        (1): Conv2d(384, 128, kernel_size=(3, 3), stride=(1, 1), padding=(1, 1))\n",
      "        (2): LeakyReLU(negative_slope=0.1)\n",
      "      )\n",
      "    )\n",
      "    (3): UpscaleConv(\n",
      "      (up): Upscale_like()\n",
      "      (features): Sequential(\n",
      "        (0): GroupNorm(8, 192, eps=1e-05, affine=True)\n",
      "        (1): Conv2d(192, 64, kernel_size=(3, 3), stride=(1, 1), padding=(1, 1))\n",
      "        (2): LeakyReLU(negative_slope=0.1)\n",
      "      )\n",
      "    )\n",
      "  )\n",
      "  (downscale_module): Rescale()\n",
      "  (final): Conv2d(64, 3, kernel_size=(1, 1), stride=(1, 1))\n",
      "  (final_upscale): Upscale_like()\n",
      ")\n"
     ]
    }
   ],
   "source": [
    "from colorization import UnetFromPretrained\n",
    "unet = UnetFromPretrained(vgg13_bn.features)\n",
    "print (unet)"
   ]
  },
  {
   "cell_type": "markdown",
   "metadata": {},
   "source": [
    "## Perceptual loss\n",
    "\n",
    "As loss we will be using the so called perceptual loss. Below is a Figure from [Perceptual Losses for Real-Time Style Transfer and Super-Resolution](https://cs.stanford.edu/people/jcjohns/papers/eccv16/JohnsonECCV16.pdf) by Justin Johnson, Alexandre Alahi, and Li Fei-Fei, ECCV 2016, where it was proposed at first.\n",
    "![image.png](training-colorization-GAN_files/att_00001.png)\n",
    "\n",
    "It is a simple mean square error (MSE) loss between generated image and target image, but not on the pixel level, but instead on some feature map of the ImageNet pretrained network. Compared with the MSE-pixel loss, it tends to produce less blurry images, compared with L1 loss - it better captures semantics and small image misalignments. \n",
    "\n",
    "It is also used as a first part of [NoGAN training](https://www.fast.ai/2019/05/03/decrappify/) by Jason Antic, (Deoldify), Jeremy Howard (fast.ai), and Uri Manor (Salk Institute). Also it was proposed in \"[Learning Implicit Generative Models by Matching Perceptual Features](http://openaccess.thecvf.com/content_ICCV_2019/papers/dos_Santos_Learning_Implicit_Generative_Models_by_Matching_Perceptual_Features_ICCV_2019_paper.pdf)\" by Cicero Nogueira dos Santos, Youssef Mroueh, Inkit Padhi, Pierre Dognin, which inspired the current assignment. \n",
    "\n",
    "Implement `class ContentLoss(nn.Module)`, which takes pretrained architecture network name and `layer_id` and an input and creates such a network during initialization. During `forward` it should do forward pass of input image and target image through this network and calculate `F.mse_loss` between them. Hint: to save time and memory, you can use `with torch.no_grad():` for getting the features of the target (**but not the generated**) image"
   ]
  },
  {
   "cell_type": "code",
   "execution_count": 8,
   "metadata": {},
   "outputs": [],
   "source": [
    "from cnn_training import weight_init\n",
    "from colorization import UnetFromPretrained,ContentLoss\n",
    "\n",
    "generator = UnetFromPretrained(vgg13_bn.features)\n",
    "model = generator\n",
    "model.up_blocks.apply(weight_init)\n",
    "model.final.apply(weight_init)\n",
    "loss_fn_content = ContentLoss('alexnet', 11)"
   ]
  },
  {
   "cell_type": "code",
   "execution_count": null,
   "metadata": {},
   "outputs": [],
   "source": [
    "from cnn_training import lr_find\n",
    "losses, lrs = lr_find(model.cpu(), train_dl, loss_fn_content)"
   ]
  },
  {
   "cell_type": "code",
   "execution_count": 11,
   "metadata": {},
   "outputs": [
    {
     "data": {
      "image/png": "[encoded data removed]",
      "text/plain": [
       "<Figure size 432x288 with 1 Axes>"
      ]
     },
     "metadata": {
      "needs_background": "light"
     },
     "output_type": "display_data"
    }
   ],
   "source": [
    "# https://stackoverflow.com/questions/44078409/matplotlib-semi-log-plot-minor-tick-marks-are-gone-when-range-is-large/44079725#44079725\n",
    "def plot_lrs_losses(lrs, losses):\n",
    "    import matplotlib.ticker\n",
    "    fig, ax=plt.subplots()\n",
    "    ax.semilogx(lrs, losses)\n",
    "    ax.set_ylim([0, 100.])\n",
    "    ax.grid(True, which=\"both\")\n",
    "    locmaj = matplotlib.ticker.LogLocator(base=10,numticks=12) \n",
    "    ax.xaxis.set_major_locator(locmaj)\n",
    "    locmin = matplotlib.ticker.LogLocator(base=10.0,subs=(0.1,0.2,0.5, 0.8),numticks=12)\n",
    "    ax.xaxis.set_minor_locator(locmin)\n",
    "    ax.xaxis.set_minor_formatter(matplotlib.ticker.NullFormatter())\n",
    "    ax.set_xlabel('Learning rate')\n",
    "    ax.set_ylabel('Loss')\n",
    "    plt.show()\n",
    "    return\n",
    "plot_lrs_losses(lrs, losses)"
   ]
  },
  {
   "cell_type": "code",
   "execution_count": null,
   "metadata": {},
   "outputs": [],
   "source": [
    "#If you work in Google Colab - uncomment and run the following\n",
    "#%load_ext tensorboard\n",
    "#%tensorboard --logdir runs"
   ]
  },
  {
   "cell_type": "markdown",
   "metadata": {},
   "source": [
    "# Training\n",
    "\n",
    "As we are training only decoder part, then don't forget to pass into optimizer only decoder part of the network (see in example below)"
   ]
  },
  {
   "cell_type": "code",
   "execution_count": null,
   "metadata": {
    "scrolled": true
   },
   "outputs": [],
   "source": [
    "from cnn_training import train_and_val_single_epoch\n",
    "from torch.utils.tensorboard import SummaryWriter\n",
    "\n",
    "writer = SummaryWriter(comment=\"ContentLoss_Color_AdamW_no_scheduler_Residual\") #Comment is a name for graph (see screenshot below)\n",
    "opt = torch.optim.AdamW(list(model.up_blocks.parameters())+\n",
    "                        list(model.final.parameters()),lr=1e-4, weight_decay=1e-4, eps=1e-2)\n",
    "for ep in range(10):\n",
    "    t=time()\n",
    "    model = train_and_val_single_epoch(model, train_dl, val_dl, opt, loss_fn_content, ep, writer=writer,\n",
    "                                      device=torch.device('cuda'))\n",
    "    el = time() -t\n",
    "    print (f\"Train epoch in {el:.1f} sec\")"
   ]
  },
  {
   "cell_type": "code",
   "execution_count": 12,
   "metadata": {},
   "outputs": [
    {
     "data": {
      "text/plain": [
       "<All keys matched successfully>"
      ]
     },
     "execution_count": 12,
     "metadata": {},
     "output_type": "execute_result"
    }
   ],
   "source": [
    "# Lets save our model\n",
    "#torch.save(model.state_dict(), 'colorization_model.pt')\n",
    "#model.load_state_dict(torch.load('coloriz_from_vgg13bn.pt'))\n"
   ]
  },
  {
   "cell_type": "markdown",
   "metadata": {},
   "source": [
    "# Visual check\n",
    "\n",
    "Lets check visually, how our network is doing on valiadation set"
   ]
  },
  {
   "cell_type": "code",
   "execution_count": null,
   "metadata": {},
   "outputs": [],
   "source": [
    "def normalize_and_quantize(timg):\n",
    "    out1 = (timg.cpu()+torch.tensor(mean).view(1,3,1,1))*torch.tensor(std).view(1,3,1,1)\n",
    "    out2 = 255*(out1-out1.min()) / (out1.max() - out1.min())\n",
    "    return out2.byte()\n",
    "\n",
    "model.eval()\n",
    "model = model.cpu()\n",
    "color_orig_normalized = []\n",
    "color_predicted_normalized = []\n",
    "count = 0\n",
    "for gray, color in train_dl:\n",
    "    with torch.no_grad():\n",
    "        colorized = model(gray)\n",
    "    color_orig_normalized += [normalize_and_quantize(x.unsqueeze(0)) for x in color]\n",
    "    color_predicted_normalized += [normalize_and_quantize(x.unsqueeze(0)) for x in colorized]\n",
    "    count+=1\n",
    "    if count >=3:\n",
    "        break\n",
    "\n",
    "imshow_torch_channels(torch.cat(color_orig_normalized,dim=0),0)\n",
    "imshow_torch_channels(torch.cat(color_predicted_normalized,dim=0),0)"
   ]
  },
  {
   "cell_type": "markdown",
   "metadata": {},
   "source": [
    "The reference (not very good) model output\n",
    "\n",
    "![image.png](training-colorization-Unet_files/att_00000.png)"
   ]
  },
  {
   "cell_type": "markdown",
   "metadata": {},
   "source": [
    "# Finally, lets try on images from different dataset"
   ]
  },
  {
   "cell_type": "code",
   "execution_count": 11,
   "metadata": {},
   "outputs": [],
   "source": [
    "from cnn_training import TestFolderDataset\n",
    "class DecolorImagesDatasetTest(TestFolderDataset):\n",
    "    def __getitem__(self, idx):\n",
    "        item = super(DecolorImagesDatasetTest, self).__getitem__(idx)\n",
    "        return K.color.rgb_to_grayscale(item).expand(3, -1, -1), item\n",
    "            \n",
    "test_transform = tfms.Compose([#tfms.Resize((128,128)),\n",
    "                        tfms.ToTensor(),\n",
    "                        tfms.Normalize(mean, std)])\n",
    "    \n",
    "test_data = DecolorImagesDatasetTest('to_colorize',\n",
    "                              transform=test_transform)\n",
    "\n",
    "test_dl = torch.utils.data.DataLoader(test_data,\n",
    "                                      batch_size= 1,\n",
    "                                     shuffle = False,\n",
    "                                     num_workers = 1,\n",
    "                                     drop_last=False)\n"
   ]
  },
  {
   "cell_type": "code",
   "execution_count": null,
   "metadata": {},
   "outputs": [],
   "source": [
    "model.eval()\n",
    "model = model.cpu()\n",
    "count = 0\n",
    "to_show = []\n",
    "for gray, color in test_dl:\n",
    "    with torch.no_grad():\n",
    "        colorized = model(gray)\n",
    "        quantized = normalize_and_quantize(colorized)\n",
    "        fname = f'out_{count}.png'\n",
    "        cv2.imwrite(fname, cv2.cvtColor(K.tensor_to_image(quantized), cv2.COLOR_RGB2BGR))\n",
    "        count+=1"
   ]
  },
  {
   "cell_type": "code",
   "execution_count": null,
   "metadata": {},
   "outputs": [],
   "source": [
    "for c in range(count):\n",
    "    fname = f'out_{c}.png'\n",
    "    img = cv2.cvtColor(cv2.imread(fname), cv2.COLOR_BGR2RGB)\n",
    "    plt.figure(figsize=(8,6))\n",
    "    plt.imshow(img)"
   ]
  },
  {
   "cell_type": "markdown",
   "metadata": {
    "scrolled": false
   },
   "source": [
    "Reference (not very good) model output:\n",
    "\n",
    "![image.png](training-colorization-Unet_files/att_00001.png)"
   ]
  }
 ],
 "metadata": {
  "kernelspec": {
   "display_name": "Python 3 (ipykernel)",
   "language": "python",
   "name": "python3"
  },
  "language_info": {
   "codemirror_mode": {
    "name": "ipython",
    "version": 3
   },
   "file_extension": ".py",
   "mimetype": "text/x-python",
   "name": "python",
   "nbconvert_exporter": "python",
   "pygments_lexer": "ipython3",
   "version": "3.9.4"
  },
  "latex_envs": {
   "LaTeX_envs_menu_present": true,
   "autoclose": false,
   "autocomplete": true,
   "bibliofile": "biblio.bib",
   "cite_by": "apalike",
   "current_citInitial": 1,
   "eqLabelWithNumbers": true,
   "eqNumInitial": 1,
   "hotkeys": {
    "equation": "Ctrl-E",
    "itemize": "Ctrl-I"
   },
   "labels_anchors": false,
   "latex_user_defs": false,
   "report_style_numbering": false,
   "user_envs_cfg": false
  }
 },
 "nbformat": 4,
 "nbformat_minor": 2
}
