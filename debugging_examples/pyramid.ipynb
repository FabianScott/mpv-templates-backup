{
 "cells": [
  {
   "cell_type": "code",
   "execution_count": 12,
   "id": "93fe1eea",
   "metadata": {},
   "outputs": [],
   "source": [
    "import torch\n",
    "import torch.nn as nn\n",
    "import torch.nn.functional as F\n",
    "\n",
    "import kornia\n",
    "import matplotlib.pyplot as plt\n",
    "\n",
    "def _get_pyramid_gaussian_kernel() -> torch.Tensor:\n",
    "    \"\"\"Utility function that return a pre-computed gaussian kernel.\"\"\"\n",
    "    return torch.tensor([[\n",
    "        [1., 4., 6., 4., 1.],\n",
    "        [4., 16., 24., 16., 4.],\n",
    "        [6., 24., 36., 24., 6.],\n",
    "        [4., 16., 24., 16., 4.],\n",
    "        [1., 4., 6., 4., 1.]\n",
    "    ]]) / 256.\n",
    "\n",
    "\n",
    "class PyrDown(nn.Module):\n",
    "    r\"\"\"Blurs a tensor and downsamples it.\n",
    "    Args:\n",
    "        borde_type (str): the padding mode to be applied before convolving.\n",
    "          The expected modes are: ``'constant'``, ``'reflect'``,\n",
    "          ``'replicate'`` or ``'circular'``. Default: ``'reflect'``.\n",
    "    Return:\n",
    "        torch.Tensor: the downsampled tensor.\n",
    "    Shape:\n",
    "        - Input: :math:`(B, C, H, W)`\n",
    "        - Output: :math:`(B, C, H / 2, W / 2)`\n",
    "    Examples:\n",
    "        >>> input = torch.rand(1, 2, 4, 4)\n",
    "        >>> output = kornia.transform.PyrDown()(input)  # 1x2x2x2\n",
    "    \"\"\"\n",
    "\n",
    "    def __init__(self, border_type: str = 'reflect') -> None:\n",
    "        super(PyrDown, self).__init__()\n",
    "        self.border_type: str = border_type\n",
    "        self.kernel: torch.Tensor = _get_pyramid_gaussian_kernel()\n",
    "\n",
    "    def forward(self, input: torch.Tensor) -> torch.Tensor:  # type: ignore\n",
    "        if not torch.is_tensor(input):\n",
    "            raise TypeError(\"Input type is not a torch.Tensor. Got {}\"\n",
    "                            .format(type(input)))\n",
    "        if not len(input.shape) == 4:\n",
    "            raise ValueError(\"Invalid input shape, we expect BxCxHxW. Got: {}\"\n",
    "                             .format(input.shape))\n",
    "        # blur image\n",
    "        x_blur: torch.Tensor = kornia.filters.filter2d(\n",
    "            input, self.kernel, self.border_type)\n",
    "\n",
    "        # reject even rows and columns.\n",
    "        out: torch.Tensor =  x_blur[..., ::2, ::2]\n",
    "        return out\n",
    "\n",
    "\n",
    "\n",
    "def pyrdown(\n",
    "        input: torch.Tensor,\n",
    "        border_type: str = 'reflect') -> torch.Tensor:\n",
    "    r\"\"\"Blurs a tensor and downsamples it.\n",
    "    See :class:`~kornia.transform.PyrDown` for details.\n",
    "    \"\"\"\n",
    "    \n",
    "    return PyrDown(border_type)(input)\n",
    "\n"
   ]
  },
  {
   "cell_type": "code",
   "execution_count": 14,
   "id": "20f4450b",
   "metadata": {},
   "outputs": [
    {
     "data": {
      "text/plain": [
       "<matplotlib.image.AxesImage at 0x13cf309d0>"
      ]
     },
     "execution_count": 14,
     "metadata": {},
     "output_type": "execute_result"
    },
    {
     "data": {
      "image/png": "[encoded data removed]",
      "text/plain": [
       "<Figure size 432x288 with 1 Axes>"
      ]
     },
     "metadata": {
      "needs_background": "light"
     },
     "output_type": "display_data"
    }
   ],
   "source": [
    "timg = torch.zeros(1,1,64,32)\n",
    "timg[0,0,32-10:32+10,16-10:16+10] = 1.0\n",
    "img = kornia.tensor_to_image(timg)\n",
    "\n",
    "plt.imshow(kornia.tensor_to_image(timg))"
   ]
  }
 ],
 "metadata": {
  "kernelspec": {
   "display_name": "Python 3 (ipykernel)",
   "language": "python",
   "name": "python3"
  },
  "language_info": {
   "codemirror_mode": {
    "name": "ipython",
    "version": 3
   },
   "file_extension": ".py",
   "mimetype": "text/x-python",
   "name": "python",
   "nbconvert_exporter": "python",
   "pygments_lexer": "ipython3",
   "version": "3.9.4"
  }
 },
 "nbformat": 4,
 "nbformat_minor": 5
}
