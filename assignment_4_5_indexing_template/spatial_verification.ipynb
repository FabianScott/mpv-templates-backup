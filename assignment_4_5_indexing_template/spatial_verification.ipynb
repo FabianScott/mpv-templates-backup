{
 "cells": [
  {
   "cell_type": "code",
   "execution_count": null,
   "metadata": {
    "collapsed": true
   },
   "outputs": [],
   "source": [
    "%load_ext autoreload\n",
    "%autoreload 2\n",
    "\n",
    "import os\n",
    "import utils\n",
    "from image_search import *\n",
    "from spatial_verification import *\n",
    "import scipy.io\n",
    "import PIL.Image\n",
    "import matplotlib.pyplot as plt"
   ]
  },
  {
   "cell_type": "code",
   "execution_count": null,
   "outputs": [],
   "source": [
    "num_words = 10001  # 10000 + 1 because we use 0 for sparse_matrices\n",
    "data = scipy.io.loadmat('data/mpvdb_haff2.mat')\n",
    "visual_words = np.array([x[0] for x in data['VW'][0]])\n",
    "img_names = np.array([x[0] for x in data['NAMES'][0]])\n",
    "\n",
    "# information about each point is in a form of [x, y, a11, a12, a21, a22]\n",
    "geometries = np.array([x.T for x in data['GEOM'][0]])\n",
    "idf = get_idf(visual_words, num_words)\n",
    "DB  = create_db_tfidf(visual_words, num_words, idf)\n",
    "\n",
    "options = {\n",
    "        'max_tc': 600,\n",
    "        'max_MxN': 10,\n",
    "        'max_spatial': 50,\n",
    "        'inlier_threshold': 8,\n",
    "        'data_root_dir': 'data/',\n",
    "        'minimum_score': 0.0,\n",
    "        'use_query_expansion': False,\n",
    "        'max_qe_keypoints': 1500,\n",
    "        'min_inliers_for_qe': 10\n",
    "}"
   ],
   "metadata": {
    "collapsed": false,
    "pycharm": {
     "name": "#%% load data and create inverted file\n"
    }
   }
  },
  {
   "cell_type": "code",
   "execution_count": 1,
   "outputs": [
    {
     "traceback": [
      "\u001b[0;31m---------------------------------------------------------------------------\u001b[0m",
      "\u001b[0;31mNameError\u001b[0m                                 Traceback (most recent call last)",
      "\u001b[0;32m<ipython-input-1-30f4565421d9>\u001b[0m in \u001b[0;36m<module>\u001b[0;34m\u001b[0m\n\u001b[0;32m----> 1\u001b[0;31m \u001b[0mdata\u001b[0m \u001b[0;34m=\u001b[0m \u001b[0mscipy\u001b[0m\u001b[0;34m.\u001b[0m\u001b[0mio\u001b[0m\u001b[0;34m.\u001b[0m\u001b[0mloadmat\u001b[0m\u001b[0;34m(\u001b[0m\u001b[0;34m'data/mpvdb_haff2.mat'\u001b[0m\u001b[0;34m)\u001b[0m\u001b[0;34m[\u001b[0m\u001b[0;34m'data'\u001b[0m\u001b[0;34m]\u001b[0m\u001b[0;34m.\u001b[0m\u001b[0mT\u001b[0m\u001b[0;34m\u001b[0m\u001b[0;34m\u001b[0m\u001b[0m\n\u001b[0m\u001b[1;32m      2\u001b[0m \u001b[0;31m# idf = getidf(VW, 10000);\u001b[0m\u001b[0;34m\u001b[0m\u001b[0;34m\u001b[0m\u001b[0;34m\u001b[0m\u001b[0m\n\u001b[1;32m      3\u001b[0m \u001b[0;31m# DB  = createdb_tfidf(VW, 10000, idf);\u001b[0m\u001b[0;34m\u001b[0m\u001b[0;34m\u001b[0m\u001b[0;34m\u001b[0m\u001b[0m\n\u001b[1;32m      4\u001b[0m \u001b[0;31m#\u001b[0m\u001b[0;34m\u001b[0m\u001b[0;34m\u001b[0m\u001b[0;34m\u001b[0m\u001b[0m\n\u001b[1;32m      5\u001b[0m \u001b[0;31m# opt = [];\u001b[0m\u001b[0;34m\u001b[0m\u001b[0;34m\u001b[0m\u001b[0;34m\u001b[0m\u001b[0m\n",
      "\u001b[0;31mNameError\u001b[0m: name 'scipy' is not defined"
     ],
     "ename": "NameError",
     "evalue": "name 'scipy' is not defined",
     "output_type": "error"
    }
   ],
   "source": [
    "q_id = 430\n",
    "d_id = 433\n",
    "bbox_xyxy = [300, 150, 500, 300]\n",
    "\n",
    "img1 = PIL.Image.open(os.path.join(options['data_root_dir'], img_names[q_id]))\n",
    "img2 = PIL.Image.open(os.path.join(options['data_root_dir'], img_names[d_id]))\n",
    "\n",
    "q_idxs = utils.get_pts_in_box(geometries[q_id], bbox_xyxy)\n",
    "correspondencies = get_tentative_correspondencies(\n",
    "    visual_words[q_id][q_idxs], visual_words, [d_id], \n",
    "    options['max_tc'], options['max_MxN']\n",
    ") \n",
    "corr=correspondencies[0]\n",
    "\n",
    "q_geom = geometries[q_id][q_idxs.reshape(-1)]\n",
    "d_geom = geometries[d_id]\n",
    "im_visu = utils.draw_tentative_correspondencies(\n",
    "    img1, q_geom, img2, d_geom, corr\n",
    ")\n",
    "\n",
    "im_visu = utils.draw_bbox(im_visu, bbox_xyxy)\n",
    "plt.figure()\n",
    "plt.imshow(im_visu)\n",
    "plt.show()\n",
    "\n",
    "print('Tentative correspondences: {}'.format(len(corr)))\n",
    "for c in corr[:10]:\n",
    "    print('\\t{}'.format(c))\n",
    "\n",
    "As, scores = ransac_affine(q_geom, geometries, correspondencies, [d_id], options['inlier_threshold'])\n",
    "print(\"#inliers: {}\".format(scores[0]))\n",
    "print(\"A: {}\".format(As[0]))"
   ],
   "metadata": {
    "collapsed": false,
    "pycharm": {
     "name": "#%%\n",
     "is_executing": false
    }
   }
  },
  {
   "cell_type": "code",
   "execution_count": null,
   "outputs": [],
   "source": [
    "q_pts = np.hstack((q_geom[:, :2], np.ones((q_geom.shape[0], 1))))\n",
    "q_pts_transformed = np.dot(As[0], q_pts.T).T\n",
    "\n",
    "dists = np.linalg.norm(q_pts_transformed[corr[:, 0], :2] - d_geom[corr[:, 1], :2], axis=1)\n",
    "inliers = dists <= options['inlier_threshold']\n",
    "\n",
    "im_visu = utils.draw_tentative_correspondencies(img1, q_geom, img2, d_geom, corr, inliers, draw_outliers_line=False)\n",
    "im_visu = utils.draw_bbox(im_visu, bbox_xyxy)\n",
    "im_visu = utils.draw_bbox(im_visu, bbox_xyxy, As[0], [img1.size[0], 0])\n",
    "\n",
    "plt.figure()\n",
    "plt.imshow(im_visu)\n",
    "plt.title('Inliers in green')\n",
    "plt.show()\n",
    "\n",
    "print(\"inliers pairs: {}...\".format(corr[inliers][:10])) "
   ],
   "metadata": {
    "collapsed": false,
    "pycharm": {
     "name": "#%%\n"
    }
   }
  },
  {
   "cell_type": "code",
   "execution_count": null,
   "outputs": [],
   "source": [
    "# Wake up\n",
    "q_id = 99\n",
    "bbox_xyxy = [188, 415, 846, 745]\n",
    "utils.query_and_visu(q_id, visual_words, geometries, bbox_xyxy, DB, idf, options, img_names)"
   ],
   "metadata": {
    "collapsed": false,
    "pycharm": {
     "name": "#%%\n"
    }
   }
  },
  {
   "cell_type": "code",
   "execution_count": null,
   "outputs": [],
   "source": [
    "# Would you like some tea?\n",
    "q_id = 0\n",
    "bbox_xyxy = [744, 206, 850, 596]\n",
    "utils.query_and_visu(q_id, visual_words, geometries, bbox_xyxy, DB, idf, options, img_names)"
   ],
   "metadata": {
    "collapsed": false,
    "pycharm": {
     "name": "#%%\n"
    }
   }
  },
  {
   "cell_type": "code",
   "execution_count": null,
   "outputs": [],
   "source": [
    "# art1\n",
    "q_id = 550\n",
    "bbox_xyxy = [230, 160, 310, 230]\n",
    "utils.query_and_visu(q_id, visual_words, geometries, bbox_xyxy, DB, idf, options.copy(), img_names)\n"
   ],
   "metadata": {
    "collapsed": false,
    "pycharm": {
     "name": "#%%\n"
    }
   }
  },
  {
   "cell_type": "code",
   "execution_count": null,
   "outputs": [],
   "source": [
    "# art1 with query expansion\n",
    "q_id = 550\n",
    "bbox_xyxy = [230, 160, 310, 230]\n",
    "options['use_query_expansion'] = True\n",
    "options['min_inliers_for_qe'] = 4\n",
    "utils.query_and_visu(q_id, visual_words, geometries, bbox_xyxy, DB, idf, options.copy(), img_names)\n",
    "options['use_query_expansion'] = False\n",
    "options['min_inliers_for_qe'] = 10"
   ],
   "metadata": {
    "collapsed": false,
    "pycharm": {
     "name": "#%%\n"
    }
   }
  },
  {
   "cell_type": "code",
   "execution_count": null,
   "outputs": [],
   "source": [
    "print(\"Results will be checkend manualy!\")"
   ],
   "metadata": {
    "collapsed": false,
    "pycharm": {
     "name": "#%%\n"
    }
   }
  }
 ],
 "metadata": {
  "kernelspec": {
   "display_name": "Python 3",
   "language": "python",
   "name": "python3"
  },
  "language_info": {
   "codemirror_mode": {
    "name": "ipython",
    "version": 2
   },
   "file_extension": ".py",
   "mimetype": "text/x-python",
   "name": "python",
   "nbconvert_exporter": "python",
   "pygments_lexer": "ipython2",
   "version": "2.7.6"
  },
  "pycharm": {
   "stem_cell": {
    "cell_type": "raw",
    "source": [],
    "metadata": {
     "collapsed": false
    }
   }
  }
 },
 "nbformat": 4,
 "nbformat_minor": 0
}