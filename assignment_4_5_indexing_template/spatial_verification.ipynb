{
 "cells": [
  {
   "cell_type": "code",
   "execution_count": null,
   "metadata": {
    "collapsed": true
   },
   "outputs": [],
   "source": [
    "# TODO:\n",
    "\"\"\"\n",
    "corrs=corrm2m(qvw, vw, relevant, max_tc, max_MxN)\n",
    "qvw - visual words in query image\n",
    "vw - K x visual words\n",
    "relevant - list of relevant img indices (of len K)\n",
    "\n",
    "return a list of lists of tentative correspondences (K x Tk), K - #imgs, Tk - tentative\n",
    "corrs between query and k-th relevant image (qvw_i, vw_i)\n",
    "\n",
    "\"\"\"\n",
    "\n",
    "\n",
    "\n",
    "# TODO: what is a minimum number of features in common\n",
    "# M x N - cartesian product of the same visual word instances\n",
    "# maximum min(N,M) TRUE correspondences\n",
    "\n",
    "# sort common visual words w.r.t. MxN\n"
   ]
  },
  {
   "cell_type": "code",
   "execution_count": null,
   "outputs": [],
   "source": [
    "from image_search import *\n",
    "import scipy.io"
   ],
   "metadata": {
    "collapsed": false,
    "pycharm": {
     "name": "#%%\n"
    }
   }
  },
  {
   "cell_type": "code",
   "execution_count": 1,
   "outputs": [
    {
     "traceback": [
      "\u001b[0;31m---------------------------------------------------------------------------\u001b[0m",
      "\u001b[0;31mNameError\u001b[0m                                 Traceback (most recent call last)",
      "\u001b[0;32m<ipython-input-1-30f4565421d9>\u001b[0m in \u001b[0;36m<module>\u001b[0;34m\u001b[0m\n\u001b[0;32m----> 1\u001b[0;31m \u001b[0mdata\u001b[0m \u001b[0;34m=\u001b[0m \u001b[0mscipy\u001b[0m\u001b[0;34m.\u001b[0m\u001b[0mio\u001b[0m\u001b[0;34m.\u001b[0m\u001b[0mloadmat\u001b[0m\u001b[0;34m(\u001b[0m\u001b[0;34m'data/mpvdb_haff2.mat'\u001b[0m\u001b[0;34m)\u001b[0m\u001b[0;34m[\u001b[0m\u001b[0;34m'data'\u001b[0m\u001b[0;34m]\u001b[0m\u001b[0;34m.\u001b[0m\u001b[0mT\u001b[0m\u001b[0;34m\u001b[0m\u001b[0;34m\u001b[0m\u001b[0m\n\u001b[0m\u001b[1;32m      2\u001b[0m \u001b[0;31m# idf = getidf(VW, 10000);\u001b[0m\u001b[0;34m\u001b[0m\u001b[0;34m\u001b[0m\u001b[0;34m\u001b[0m\u001b[0m\n\u001b[1;32m      3\u001b[0m \u001b[0;31m# DB  = createdb_tfidf(VW, 10000, idf);\u001b[0m\u001b[0;34m\u001b[0m\u001b[0;34m\u001b[0m\u001b[0;34m\u001b[0m\u001b[0m\n\u001b[1;32m      4\u001b[0m \u001b[0;31m#\u001b[0m\u001b[0;34m\u001b[0m\u001b[0;34m\u001b[0m\u001b[0;34m\u001b[0m\u001b[0m\n\u001b[1;32m      5\u001b[0m \u001b[0;31m# opt = [];\u001b[0m\u001b[0;34m\u001b[0m\u001b[0;34m\u001b[0m\u001b[0;34m\u001b[0m\u001b[0m\n",
      "\u001b[0;31mNameError\u001b[0m: name 'scipy' is not defined"
     ],
     "ename": "NameError",
     "evalue": "name 'scipy' is not defined",
     "output_type": "error"
    }
   ],
   "source": [
    "data = scipy.io.loadmat('data/mpvdb_haff2.mat')['data'].T\n",
    "# idf = getidf(VW, 10000);\n",
    "# DB  = createdb_tfidf(VW, 10000, idf);\n",
    "# \n",
    "# opt = [];\n",
    "# opt.max_tc=600;\n",
    "# opt.max_MxN=10;\n",
    "# opt.max_spatial=50;\n",
    "# % directory where you unzipped mpvimgs.zip\n",
    "# opt.root_dir='./';\n",
    "# % opt.subplot=1;\n",
    "# opt.threshold=8;"
   ],
   "metadata": {
    "collapsed": false,
    "pycharm": {
     "name": "#%% load data and create inverted file\n",
     "is_executing": false
    }
   }
  },
  {
   "cell_type": "code",
   "execution_count": null,
   "outputs": [],
   "source": [
    "\n"
   ],
   "metadata": {
    "collapsed": false,
    "pycharm": {
     "name": "#%%\n"
    }
   }
  }
 ],
 "metadata": {
  "kernelspec": {
   "display_name": "Python 3",
   "language": "python",
   "name": "python3"
  },
  "language_info": {
   "codemirror_mode": {
    "name": "ipython",
    "version": 2
   },
   "file_extension": ".py",
   "mimetype": "text/x-python",
   "name": "python",
   "nbconvert_exporter": "python",
   "pygments_lexer": "ipython2",
   "version": "2.7.6"
  },
  "pycharm": {
   "stem_cell": {
    "cell_type": "raw",
    "source": [],
    "metadata": {
     "collapsed": false
    }
   }
  }
 },
 "nbformat": 4,
 "nbformat_minor": 0
}